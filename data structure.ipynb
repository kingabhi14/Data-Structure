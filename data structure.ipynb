{
  "nbformat": 4,
  "nbformat_minor": 0,
  "metadata": {
    "colab": {
      "provenance": []
    },
    "kernelspec": {
      "name": "python3",
      "display_name": "Python 3"
    },
    "language_info": {
      "name": "python"
    }
  },
  "cells": [
    {
      "cell_type": "code",
      "execution_count": null,
      "metadata": {
        "id": "ovlmucUXy4xm"
      },
      "outputs": [],
      "source": []
    },
    {
      "cell_type": "markdown",
      "source": [
        "DATA TYPES AND STRUCTURES *QUESTION*\n",
        "\n",
        "1.What are data structures, and why are they important?\n",
        "\n",
        "ANS - A data structure is a specialized format for organizing, processing, retrieving and storing data. There are several basic and advanced types of data structures, all designed to arrange data to suit a specific purpose. Data structures make it easy for users to access and work with the data they need.\n",
        "\n",
        "2.Explain the difference between mutable and immutable data types with examples?\n",
        "\n",
        "ANS-Mutable data types\n",
        "These data types can be modified after they are created. For example, in Python, lists, dictionaries, and sets are mutable data types.\n",
        "Immutable data types\n",
        "These data types cannot be changed after they are created. For example, in Python, strings, tuples, integers, and floats are immutable data type.\n"
      ],
      "metadata": {
        "id": "Pec8w7S3y6CW"
      }
    },
    {
      "cell_type": "markdown",
      "source": [
        "3.What is a string in Python, and how is it different from a list?\n",
        "\n",
        "ANS-A string is a sequence of characters between single or double quotes. A list is a sequence of items, where each item could be anything (an integer, a float, a string, etc).\n",
        "\n",
        "4.Why might you use a set instead of a list in Python?\n",
        "\n",
        "ANS-Because sets cannot have multiple occurrences of the same element, it makes sets highly useful to efficiently remove duplicate values from a list or tuple and to perform common math operations like unions and intersections.\n",
        "\n"
      ],
      "metadata": {
        "id": "AvuD-Hd-6XlM"
      }
    },
    {
      "cell_type": "markdown",
      "source": [
        "5.What are the main differences between lists and tuples in Python?\n",
        "\n",
        "ANS-The main differences between lists and tuples in Python are that lists are mutable, while tuples are immutable. Lists can be modified, while tuples cannot. Tuples are also more memory efficient and faster than lists.\n",
        "\n",
        "6.Describe how dictionaries store data?\n",
        "\n",
        "ANS-Dictionaries are used to store data values in key:value pairs. A dictionary is a collection which is ordered*, changeable and do not allow duplicates. As of Python version 3.7, dictionaries are ordered. In Python 3.6 and earlier, dictionaries are unordered."
      ],
      "metadata": {
        "id": "6vJuHoGC8L1v"
      }
    },
    {
      "cell_type": "markdown",
      "source": [
        "7.How do tuples ensure data integrity in Python?\n",
        "\n",
        "ANS-Tuples are immutable to ensure that their contents remain constant throughout their lifecycle, guaranteeing data integrity and reliability. This immutability allows tuples to be used as keys in dictionaries and elements in sets.\n",
        "\n",
        "8.What is a hash table, and how does it relate to dictionaries in Python?\n",
        "\n",
        "ANS-In Python, a hash table is a data structure that's used to implement dictionaries.\n",
        "A hash function generates a unique index value for each key in a dictionary.\n",
        "The index value determines which bucket in the hash table to store the data in.\n",
        "Hash tables are efficient because they allow for fast access to data.\n"
      ],
      "metadata": {
        "id": "iVzBFb7v9CHf"
      }
    },
    {
      "cell_type": "markdown",
      "source": [
        "9.Can lists contain different data types in Python?\n",
        "\n",
        "ANS-Although it's not really common, a list can also contain a mix of Python types including strings, floats, and booleans.\n",
        "\n",
        "10.Explain why strings are immutable in Python?\n",
        "\n",
        "ANS  -Strings in Python are “immutable” which means they can not be changed after they are created. Some other immutable data types are integers, float, boolean, etc.\n",
        "\n",
        "The immutability of Python string is very useful as it helps in hashing, performance optimization, safety, ease of use, etc."
      ],
      "metadata": {
        "id": "j1Cawy---mE7"
      }
    },
    {
      "cell_type": "markdown",
      "source": [
        "11.How do sets handle duplicate values in Python?\n",
        "\n",
        "ANS- Items of a set in python are immutable  do not duplicate values, and unordered. Thus, items in a set do not appear in a stipulated manner,  they can appear in a different order every time it is used. Due to this, set items cannot be referred to by key or index.\n",
        "\n",
        "12.What advantages do dictionaries offer over lists for certain tasks?\n",
        "\n",
        "ANS- Dictionaries are faster for lookups because they use hash tables. Dictionaries have constant time complexity  while lists have linear time complexity  Dictionaries are faster for finding a specific Python object."
      ],
      "metadata": {
        "id": "Gzj983PX__VP"
      }
    },
    {
      "cell_type": "markdown",
      "source": [
        "13.Explain the difference between a list and a dictionary in terms of data retrieval?\n",
        "\n",
        "ANS- Lists are ordered sets of objects, whereas dictionaries are unordered sets. But the main difference is that items in dictionaries are accessed via keys and not via their position. A dictionary is an associative array Also known as hashes. Any key of the dictionary is associated  to a value.\n",
        "\n",
        "14.Why are dictionaries considered unordered, and how does that affect data retrieval?\n",
        "\n",
        "ANS- Dictionary is termed as an unordered collection of object because the printed order of elements is not same as the order in which the elements are stored.In older versions of Python  dictionaries did not preserve insertion order at all. This meant that when you accessed or printed the items, the order could vary, as dictionaries were optimized for fast lookups rather than maintaining order."
      ],
      "metadata": {
        "id": "55ZbD1BXBXh6"
      }
    },
    {
      "cell_type": "markdown",
      "source": [
        "15.In what situations are lists preferred over dictionaries?\n",
        "\n",
        "ANS-  If you need an ordered collection, like a sequence of user actions, lists are your go-to. On the other hand, when you need quick look-ups, like mapping usernames to user data, dictionaries are invaluable.\n",
        "\n",
        "16. What is a nested dictionary, and give an example of its use case?\n",
        "\n",
        "ANS-  A nested dictionary is a dictionary that contains other dictionaries. It's a way to organize data into multiple layers.\n",
        "Example -\n",
        "Employee records: Organize employees by department, with each employee's details in a nested dictionary\n",
        "Inventory systems: Track product categories, subcategories, and individual product details\n",
        "JSON data: Nested dictionaries map to the structure of JSON data, making them useful for working with APIs and web services."
      ],
      "metadata": {
        "id": "lINk_87vDqVm"
      }
    },
    {
      "cell_type": "markdown",
      "source": [
        "17.You modify the elements of a tuple? Explain why or why not?\n",
        "\n",
        "ANS- No, you cannot modify the elements of a tuple in Python because tuples are immutable meaning once created, their elements cannot be changed, added, or removed; if you try to directly alter a tuple element, you will receive a TypeError error.\n",
        "\n",
        "18.How do sets handle duplicate values in Python?\n",
        "\n",
        "ANS- Items of a set in python are immutable  do not duplicate values, and unordered. Thus, items in a set do not appear in a stipulated manner,  they can appear in a different order every time it is used. Due to this, set items cannot be referred to by key or index."
      ],
      "metadata": {
        "id": "5NKNz7biFHpZ"
      }
    },
    {
      "cell_type": "markdown",
      "source": [
        "19.How does the “in” keyword work differently for lists and dictionaries?\n",
        "\n",
        "ANS- The key of the dictionary is a unique value as well as the set, and the execution time is about the same as for sets. On the other hand, dictionary values can be duplicated like a list. The execution time of in for values is about the same as for lists. Key-value pairs are unique."
      ],
      "metadata": {
        "id": "05MlkRE-GKAD"
      }
    },
    {
      "cell_type": "markdown",
      "source": [
        "PRACTICAL QUESTIONS\n",
        "\n",
        "\n",
        "1.Write a code to find the length of the string \"Hello World\"\n"
      ],
      "metadata": {
        "id": "BoMSQNLuHAGO"
      }
    },
    {
      "cell_type": "code",
      "source": [
        "\n",
        "string = \"Hello World\"\n",
        "\n",
        "\n",
        "length = len(string)\n",
        "print(\"The length of the string is:\", length)\n"
      ],
      "metadata": {
        "colab": {
          "base_uri": "https://localhost:8080/"
        },
        "id": "sA28S4kQHtVe",
        "outputId": "1b1c8057-6f01-4501-867f-027ca73c3191"
      },
      "execution_count": 1,
      "outputs": [
        {
          "output_type": "stream",
          "name": "stdout",
          "text": [
            "The length of the string is: 11\n"
          ]
        }
      ]
    },
    {
      "cell_type": "markdown",
      "source": [
        "2.Write a code to slice the first 3 characters from the string \"Python Programming\""
      ],
      "metadata": {
        "id": "JdY4PxOVIO_p"
      }
    },
    {
      "cell_type": "code",
      "source": [
        "\n",
        "string = \"Python Programming\"\n",
        "\n",
        "\n",
        "sliced_string = string[:3]\n",
        "\n",
        "print(\"The sliced string is:\", sliced_string)\n"
      ],
      "metadata": {
        "colab": {
          "base_uri": "https://localhost:8080/"
        },
        "id": "YNFnwfRdIYCx",
        "outputId": "c768fa17-5caa-4086-91c7-5974ef475ff3"
      },
      "execution_count": 2,
      "outputs": [
        {
          "output_type": "stream",
          "name": "stdout",
          "text": [
            "The sliced string is: Pyt\n"
          ]
        }
      ]
    },
    {
      "cell_type": "markdown",
      "source": [
        "3. Write a code to convert the string \"hello\" to uppercase"
      ],
      "metadata": {
        "id": "sLx3UI5YJGZI"
      }
    },
    {
      "cell_type": "code",
      "source": [
        "\n",
        "string = \"hello\"\n",
        "\n",
        "\n",
        "uppercase_string = string.upper()\n",
        "\n",
        "print(\"The string in uppercase is:\", uppercase_string)\n"
      ],
      "metadata": {
        "colab": {
          "base_uri": "https://localhost:8080/"
        },
        "id": "UxkmGt2JJ7RZ",
        "outputId": "0d1749bc-a477-4a61-831d-6f08d30c4bee"
      },
      "execution_count": 5,
      "outputs": [
        {
          "output_type": "stream",
          "name": "stdout",
          "text": [
            "The string in uppercase is: HELLO\n"
          ]
        }
      ]
    },
    {
      "cell_type": "markdown",
      "source": [
        "4.Write a code to replace the word \"apple\" with \"orange\" in the string \"I like apple\""
      ],
      "metadata": {
        "id": "76ZPpCsCKRjO"
      }
    },
    {
      "cell_type": "code",
      "source": [
        "\n",
        "string = \"I like apple\"\n",
        "\n",
        "'modified_string = string.replace(\"apple\", \"orange\")\n",
        "\n",
        "print(\"The modified string is:\", modified_string)\n"
      ],
      "metadata": {
        "colab": {
          "base_uri": "https://localhost:8080/"
        },
        "id": "xCf3azzeKjzm",
        "outputId": "9a936a13-64e4-4547-a2c0-d8269d4e63c3"
      },
      "execution_count": 6,
      "outputs": [
        {
          "output_type": "stream",
          "name": "stdout",
          "text": [
            "The modified string is: I like orange\n"
          ]
        }
      ]
    },
    {
      "cell_type": "markdown",
      "source": [
        "5.Write a code to create a list with numbers 1 to 5 and print it"
      ],
      "metadata": {
        "id": "3J28wgFbK5zu"
      }
    },
    {
      "cell_type": "code",
      "source": [
        "\n",
        "numbers = [1, 2, 3, 4, 5]\n",
        "\n",
        "print(\"The list is:\", numbers)\n"
      ],
      "metadata": {
        "colab": {
          "base_uri": "https://localhost:8080/"
        },
        "id": "cK4vqPFoLEMt",
        "outputId": "4ecdebaf-2f01-43d4-fd80-aa426cda908d"
      },
      "execution_count": 8,
      "outputs": [
        {
          "output_type": "stream",
          "name": "stdout",
          "text": [
            "The list is: [1, 2, 3, 4, 5]\n"
          ]
        }
      ]
    },
    {
      "cell_type": "markdown",
      "source": [
        "6. Write a code to append the number 10 to the list [1, 2, 3, 4]"
      ],
      "metadata": {
        "id": "LZjZA8PWLRaU"
      }
    },
    {
      "cell_type": "code",
      "source": [
        "\n",
        "numbers = [1, 2, 3, 4]\n",
        "\n",
        "\n",
        "numbers.append(10)\n",
        "\n",
        "print(\"The updated list is:\", numbers)\n"
      ],
      "metadata": {
        "colab": {
          "base_uri": "https://localhost:8080/"
        },
        "id": "SVRuTv-7Lgid",
        "outputId": "d50cc610-a255-4774-cf9a-fe64991c4f75"
      },
      "execution_count": 11,
      "outputs": [
        {
          "output_type": "stream",
          "name": "stdout",
          "text": [
            "The updated list is: [1, 2, 3, 4, 10]\n"
          ]
        }
      ]
    },
    {
      "cell_type": "markdown",
      "source": [
        "7.Write a code to access the second element in the list ['a', 'b', 'c', 'd']"
      ],
      "metadata": {
        "id": "uRdF4739MEVC"
      }
    },
    {
      "cell_type": "code",
      "source": [
        "\n",
        "letters = ['a', 'b', 'c', 'd']\n",
        "\n",
        "second_element = letters[1]\n",
        "print(\"The second element is:\", second_element)\n"
      ],
      "metadata": {
        "colab": {
          "base_uri": "https://localhost:8080/"
        },
        "id": "V1KosxQyMPC-",
        "outputId": "2611fec5-e74f-403d-cb07-6716da98a69f"
      },
      "execution_count": 12,
      "outputs": [
        {
          "output_type": "stream",
          "name": "stdout",
          "text": [
            "The second element is: b\n"
          ]
        }
      ]
    },
    {
      "cell_type": "markdown",
      "source": [
        "8. Write a code to reverse the list [10, 20, 30, 40, 50]."
      ],
      "metadata": {
        "id": "iZYU4bCWMscZ"
      }
    },
    {
      "cell_type": "code",
      "source": [
        "\n",
        "numbers = [10, 20, 30, 40, 50]\n",
        "\n",
        "numbers.reverse()\n",
        "print(\"The reversed list is:\", numbers)\n"
      ],
      "metadata": {
        "colab": {
          "base_uri": "https://localhost:8080/"
        },
        "id": "b40QC6D8M0qe",
        "outputId": "12ebf01a-f3a2-4a1a-8809-0da01bf5906d"
      },
      "execution_count": 13,
      "outputs": [
        {
          "output_type": "stream",
          "name": "stdout",
          "text": [
            "The reversed list is: [50, 40, 30, 20, 10]\n"
          ]
        }
      ]
    },
    {
      "cell_type": "markdown",
      "source": [
        "9.Write a code to create a tuple with the elements 10, 20, 30 and print it"
      ],
      "metadata": {
        "id": "_f-ggyC1NGLW"
      }
    },
    {
      "cell_type": "code",
      "source": [
        "\n",
        "my_tuple = (10, 20, 30)\n",
        "\n",
        "print(\"The tuple is:\", my_tuple)\n"
      ],
      "metadata": {
        "colab": {
          "base_uri": "https://localhost:8080/"
        },
        "id": "ed7SBfHMNUIu",
        "outputId": "e713ce3a-a5f1-4d43-a020-0931f2ec3841"
      },
      "execution_count": 15,
      "outputs": [
        {
          "output_type": "stream",
          "name": "stdout",
          "text": [
            "The tuple is: (10, 20, 30)\n"
          ]
        }
      ]
    },
    {
      "cell_type": "markdown",
      "source": [
        "10.Write a code to access the first element of the tuple ('apple', 'banana', 'cherry')."
      ],
      "metadata": {
        "id": "sO1oc6SpNny9"
      }
    },
    {
      "cell_type": "code",
      "source": [
        "\n",
        "fruits = ('apple', 'banana', 'cherry')\n",
        "\n",
        "first_element = fruits[0]\n",
        "print(\"The first element is:\", first_element)\n"
      ],
      "metadata": {
        "colab": {
          "base_uri": "https://localhost:8080/"
        },
        "id": "UhUbmVGQNuo_",
        "outputId": "2782fc90-90c5-4853-8135-5964fcbb8a77"
      },
      "execution_count": 16,
      "outputs": [
        {
          "output_type": "stream",
          "name": "stdout",
          "text": [
            "The first element is: apple\n"
          ]
        }
      ]
    },
    {
      "cell_type": "markdown",
      "source": [
        "11. Write a code to count how many times the number 2 appears in the tuple (1, 2, 3, 2, 4, 2)."
      ],
      "metadata": {
        "id": "OoJRb51SOETP"
      }
    },
    {
      "cell_type": "code",
      "source": [
        "\n",
        "my_tuple = (1, 2, 3, 2, 4, 2)\n",
        "\n",
        "count_of_2 = my_tuple.count(2)\n",
        "print(\"The number 2 appears\", count_of_2, \"times in the tuple.\")\n"
      ],
      "metadata": {
        "colab": {
          "base_uri": "https://localhost:8080/"
        },
        "id": "yK_TpEbCOM5a",
        "outputId": "826c43ec-808b-47c2-e27e-adc138d40ac5"
      },
      "execution_count": 17,
      "outputs": [
        {
          "output_type": "stream",
          "name": "stdout",
          "text": [
            "The number 2 appears 3 times in the tuple.\n"
          ]
        }
      ]
    },
    {
      "cell_type": "markdown",
      "source": [
        "12.Write a code to find the index of the element \"cat\" in the tuple ('dog', 'cat', 'rabbit')."
      ],
      "metadata": {
        "id": "H7XM8wjzOa49"
      }
    },
    {
      "cell_type": "code",
      "source": [
        "\n",
        "animals = ('dog', 'cat', 'rabbit')\n",
        "\n",
        "index_of_cat = animals.index('cat')\n",
        "print(\"The index of 'cat' is:\", index_of_cat)\n"
      ],
      "metadata": {
        "colab": {
          "base_uri": "https://localhost:8080/"
        },
        "id": "FUiMhqzqOhki",
        "outputId": "cfeade37-697f-4ca5-d5bd-cdbfe717a392"
      },
      "execution_count": 18,
      "outputs": [
        {
          "output_type": "stream",
          "name": "stdout",
          "text": [
            "The index of 'cat' is: 1\n"
          ]
        }
      ]
    },
    {
      "cell_type": "markdown",
      "source": [
        "13.Write a code to check if the element \"banana\" is in the tuple ('apple', 'orange', 'banana')."
      ],
      "metadata": {
        "id": "Rc0IHDGDOvIG"
      }
    },
    {
      "cell_type": "code",
      "source": [
        "\n",
        "fruits = ('apple', 'orange', 'banana')\n",
        "\n",
        "if 'banana' in fruits:\n",
        "    print(\"Yes, 'banana' is in the tuple.\")\n",
        "else:\n",
        "    print(\"No, 'banana' is not in the tuple.\")\n"
      ],
      "metadata": {
        "colab": {
          "base_uri": "https://localhost:8080/"
        },
        "id": "BT3Olm7BO4Pt",
        "outputId": "a5d96c58-a8ab-4989-b51a-a6b5437737a5"
      },
      "execution_count": 19,
      "outputs": [
        {
          "output_type": "stream",
          "name": "stdout",
          "text": [
            "Yes, 'banana' is in the tuple.\n"
          ]
        }
      ]
    },
    {
      "cell_type": "markdown",
      "source": [
        "14. Write a code to add the element 6 to the set {1, 2, 3, 4}"
      ],
      "metadata": {
        "id": "n6bFfQLjPHfI"
      }
    },
    {
      "cell_type": "code",
      "source": [
        "\n",
        "my_set = {1, 2, 3, 4}\n",
        "\n",
        "my_set.add(6)\n",
        "print(\"The updated set is:\", my_set)\n"
      ],
      "metadata": {
        "colab": {
          "base_uri": "https://localhost:8080/"
        },
        "id": "LaQ47G-9PPRQ",
        "outputId": "86cfbef2-f585-48bb-e708-9237ce405362"
      },
      "execution_count": 20,
      "outputs": [
        {
          "output_type": "stream",
          "name": "stdout",
          "text": [
            "The updated set is: {1, 2, 3, 4, 6}\n"
          ]
        }
      ]
    },
    {
      "cell_type": "markdown",
      "source": [
        "15. Write a code to create a set with the elements 1, 2, 3, 4, 5 and print it."
      ],
      "metadata": {
        "id": "wjSyGeLUPu6R"
      }
    },
    {
      "cell_type": "code",
      "source": [
        "\n",
        "my_set = {1, 2, 3, 4, 5}\n",
        "\n",
        "print(\"The set is:\", my_set)\n"
      ],
      "metadata": {
        "colab": {
          "base_uri": "https://localhost:8080/"
        },
        "id": "RLhC11q8P1to",
        "outputId": "ca388297-9cc5-4c8e-9236-28df79423d5a"
      },
      "execution_count": 21,
      "outputs": [
        {
          "output_type": "stream",
          "name": "stdout",
          "text": [
            "The set is: {1, 2, 3, 4, 5}\n"
          ]
        }
      ]
    },
    {
      "cell_type": "markdown",
      "source": [
        "16.Write a code to check if the element \"banana\" is in the tuple ('apple', 'orange', 'banana')."
      ],
      "metadata": {
        "id": "_QgYWZyBQBU5"
      }
    },
    {
      "cell_type": "code",
      "source": [
        "\n",
        "fruits = ('apple', 'orange', 'banana')\n",
        "\n",
        "if 'banana' in fruits:\n",
        "    print(\"Yes, 'banana' is in the tuple.\")\n",
        "else:\n",
        "    print(\"No, 'banana' is not in the tuple.\")\n"
      ],
      "metadata": {
        "colab": {
          "base_uri": "https://localhost:8080/"
        },
        "id": "ntLXVqNJQWzI",
        "outputId": "5ccbddd0-734f-4285-e66e-65d96d23fabd"
      },
      "execution_count": 22,
      "outputs": [
        {
          "output_type": "stream",
          "name": "stdout",
          "text": [
            "Yes, 'banana' is in the tuple.\n"
          ]
        }
      ]
    },
    {
      "cell_type": "markdown",
      "source": [
        "17.Write a code to find the index of the element \"cat\" in the tuple ('dog', 'cat', 'rabbit')."
      ],
      "metadata": {
        "id": "n0sJI-PbQdpv"
      }
    },
    {
      "cell_type": "code",
      "source": [
        "\n",
        "animals = ('dog', 'cat', 'rabbit')\n",
        "\n",
        "index_of_cat = animals.index('cat')\n",
        "print(\"The index of 'cat' is:\", index_of_cat)\n"
      ],
      "metadata": {
        "colab": {
          "base_uri": "https://localhost:8080/"
        },
        "id": "yV7AeycdQjTV",
        "outputId": "26595a78-ead3-4adb-a9ef-c6f453e33f55"
      },
      "execution_count": 23,
      "outputs": [
        {
          "output_type": "stream",
          "name": "stdout",
          "text": [
            "The index of 'cat' is: 1\n"
          ]
        }
      ]
    },
    {
      "cell_type": "markdown",
      "source": [
        "18.. Write a code to count how many times the number 2 appears in the tuple (1, 2, 3, 2, 4, 2)"
      ],
      "metadata": {
        "id": "5qk6LKRxQvHX"
      }
    },
    {
      "cell_type": "code",
      "source": [
        "\n",
        "my_tuple = (1, 2, 3, 2, 4, 2)\n",
        "\n",
        "count_of_2 = my_tuple.count(2)\n",
        "print(\"The number 2 appears\", count_of_2, \"times in the tuple.\")\n"
      ],
      "metadata": {
        "colab": {
          "base_uri": "https://localhost:8080/"
        },
        "id": "xhX9patCQ1UH",
        "outputId": "0a88caf4-552a-404a-a00b-b233faad1ead"
      },
      "execution_count": 24,
      "outputs": [
        {
          "output_type": "stream",
          "name": "stdout",
          "text": [
            "The number 2 appears 3 times in the tuple.\n"
          ]
        }
      ]
    },
    {
      "cell_type": "markdown",
      "source": [
        "19. Write a code to access the first element of the tuple ('apple', 'banana', 'cherry').\n"
      ],
      "metadata": {
        "id": "AutlQPIDRMaW"
      }
    },
    {
      "cell_type": "code",
      "source": [
        "\n",
        "fruits = ('apple', 'banana', 'cherry')\n",
        "\n",
        "first_element = fruits[0]\n",
        "print(\"The first element is:\", first_element)\n"
      ],
      "metadata": {
        "colab": {
          "base_uri": "https://localhost:8080/"
        },
        "id": "xEjwT6XzRg7G",
        "outputId": "c7324249-ec9c-448e-9129-8e8b7ed2e62f"
      },
      "execution_count": 25,
      "outputs": [
        {
          "output_type": "stream",
          "name": "stdout",
          "text": [
            "The first element is: apple\n"
          ]
        }
      ]
    },
    {
      "cell_type": "markdown",
      "source": [
        "20.Write a code to create a tuple with the elements 10, 20, 30 and print it."
      ],
      "metadata": {
        "id": "8PdQN92XRu-b"
      }
    },
    {
      "cell_type": "code",
      "source": [
        "\n",
        "my_tuple = (10, 20, 30)\n",
        "print(\"The tuple is:\", my_tuple)\n"
      ],
      "metadata": {
        "colab": {
          "base_uri": "https://localhost:8080/"
        },
        "id": "taE9TJeaR2U-",
        "outputId": "ea19eff5-731e-42ee-85b1-1cd45888504e"
      },
      "execution_count": 26,
      "outputs": [
        {
          "output_type": "stream",
          "name": "stdout",
          "text": [
            "The tuple is: (10, 20, 30)\n"
          ]
        }
      ]
    },
    {
      "cell_type": "markdown",
      "source": [
        "21. Write a code to add the element 6 to the set {1, 2, 3, 4}."
      ],
      "metadata": {
        "id": "f4AOI_neSCa-"
      }
    },
    {
      "cell_type": "code",
      "source": [
        "\n",
        "my_set = {1, 2, 3, 4}\n",
        "\n",
        "my_set.add(6)\n",
        "print(\"The updated set is:\", my_set)\n"
      ],
      "metadata": {
        "colab": {
          "base_uri": "https://localhost:8080/"
        },
        "id": "n5yoBVBwSIpJ",
        "outputId": "e73c6f79-d040-4cb4-d2ba-6f3bcc014f7b"
      },
      "execution_count": 28,
      "outputs": [
        {
          "output_type": "stream",
          "name": "stdout",
          "text": [
            "The updated set is: {1, 2, 3, 4, 6}\n"
          ]
        }
      ]
    }
  ]
}